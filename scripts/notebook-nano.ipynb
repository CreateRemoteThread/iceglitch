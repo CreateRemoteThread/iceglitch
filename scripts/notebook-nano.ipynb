{
 "cells": [
  {
   "cell_type": "markdown",
   "metadata": {},
   "source": [
    "# Exercise 1: Stealing the recipe\n",
    "\n",
    "The goal of todays exercise is to steal the paella recipe!\n",
    "\n",
    "# Step 1 Investiage the target\n",
    "\n",
    "Lets first investiate the target and have a look around.\n",
    "\n",
    "1. Remove all USB serial devices\n",
    "2. Grab the arduino nano\n",
    "3. Connect it to the PC with the mini usb cable.\n",
    "4. run: minicom -D /dev/ttyUSB0\n",
    "5. Change the baud rate to 19200\n",
    "6. Hit the reset button on the arduino a couple of times\n",
    "7. Investigate the menu, where can we find the recipe?\n",
    "\n",
    "# Questions:\n",
    "1. What happens when you hit reset on the Arduino nano?\n",
    "2. How could we try to get the secret recipe from the nano?\n"
   ]
  },
  {
   "cell_type": "markdown",
   "metadata": {},
   "source": [
    "# Step 2 Connecting the glitcher\n",
    "\n",
    "So after having failed to get the password through logical means (and since we consider extracting the flash through the JTAG interface cheating), It's time to build a glitch setup.\n",
    "\n",
    "1. REMOVE THE USB MINI CABLE FROM THE ARDUINO !!!!!\n",
    "2. Grab the ice stick FPGA board\n",
    "3. Place the glitching PMOD on the ICE STICK\n",
    "4. Connect the FTDI-serial cable to the Arduino TX and RX pins\n",
    "5. Connect the glitcher trigger in to the arduino RX pin TOO\n",
    "6. Connect the 5v pin on the arduino to a power pin on the glitcher\n",
    "7. Connect the GND pin on the glitcher with the arduino\n"
   ]
  },
  {
   "cell_type": "markdown",
   "metadata": {},
   "source": [
    "# Step 3 Investigating the glitching script   \n",
    "1. Open glitcher/scripts/IceGlitcherNano.py\n",
    "2. have a look around\n",
    "\n",
    "# Questions\n",
    "1. Where are the parameters for the glitch?\n",
    "2. Why did we connect the RX line of the arduino to the trigger input of the glitcher?\n",
    "3. How do we know that we've succeeded in getting the recipe?\n"
   ]
  },
  {
   "cell_type": "markdown",
   "metadata": {},
   "source": [
    "# Step 4 Running the glitcher script\n",
    "1. Run the ./IceGlitcherNano.py script\n",
    "2. wait a bit\n",
    "3. Run the cells below\n"
   ]
  },
  {
   "cell_type": "code",
   "execution_count": 3,
   "metadata": {
    "collapsed": false
   },
   "outputs": [
    {
     "data": {
      "text/html": [
       "<style>.container { width:90% !important; }</style>"
      ],
      "text/plain": [
       "<IPython.core.display.HTML object>"
      ]
     },
     "metadata": {},
     "output_type": "display_data"
    },
    {
     "name": "stdout",
     "output_type": "stream",
     "text": [
      "attempt      int64\n",
      "length     float64\n",
      "delay      float64\n",
      "volts      float64\n",
      "data        object\n",
      "color       object\n",
      "dtype: object\n"
     ]
    }
   ],
   "source": [
    "from IPython.core.display import display, HTML\n",
    "display(HTML(\"<style>.container { width:90% !important; }</style>\"))\n",
    "import pandas\n",
    "import matplotlib.pyplot as plt\n",
    "from pandas.tools.plotting import scatter_matrix\n",
    "%matplotlib inline\n",
    "df = pandas.read_csv('/home/albert/devel/glitcher/scripts/log-nano.csv')\n",
    "\n",
    "df.head()    # Displays the top 5 rows. Accepts an optional int parameter - num. of rows to show\n",
    "df.tail()    # Similar to head, but displays the last rows\n",
    "df.shape     # The dimensions of the dataframe as a (rows, cols) tuple\n",
    "len(df)      # The number of columns. Equal to df.shape[0]\n",
    "df.columns   # An array of the column names\n",
    "df.values    # Converts the frame to a two-dimensional table\n",
    "\n",
    "print(df.dtypes)\n",
    "None"
   ]
  },
  {
   "cell_type": "code",
   "execution_count": null,
   "metadata": {
    "collapsed": false
   },
   "outputs": [],
   "source": [
    "# Show all parameters plotted against all parameters\n",
    "scatter_matrix(df,c=colors,figsize=[25,25], marker='o')\n",
    "# LEGEND: GREEN: target ran as expected YELLOW: target muted or rebooted (we say a boot message)  MAGENTA: something weird happened RED: WE HAVE THE RECIPE!\n",
    "None"
   ]
  },
  {
   "cell_type": "code",
   "execution_count": null,
   "metadata": {
    "collapsed": false
   },
   "outputs": [],
   "source": [
    "# Let's have a look at some weird responses.\n",
    "df_f = df.loc[ ( df['data'].str.len()> 21) & ( df['color'] == 'm')]\n",
    "print(df_f['data'])"
   ]
  },
  {
   "cell_type": "code",
   "execution_count": null,
   "metadata": {
    "collapsed": false
   },
   "outputs": [],
   "source": [
    "# Lets have a look at voltage vs length only\n",
    "df.plot.scatter(x='volts',y='length',c=df['color'], figsize=[20, 10])\n",
    "None"
   ]
  },
  {
   "cell_type": "code",
   "execution_count": null,
   "metadata": {
    "collapsed": false
   },
   "outputs": [],
   "source": [
    "# Do we have the recipe yet?\n",
    "print(df.loc[df['color'] == 'r'])"
   ]
  },
  {
   "cell_type": "markdown",
   "metadata": {},
   "source": [
    "# If you wait long enough the secret recipe will fall out. But how can we speed up this process?\n",
    "This is a simple target so the recipe will drop out some time, but what about harder targets.....\n",
    "# Questions\n",
    "1. Which relationships do we seen in the plots above?\n",
    "2. Which parameters can we tweak to get the results faster? i.e. which parts of the plot are boring?\n",
    "3. Whats the recipe\n"
   ]
  }
 ],
 "metadata": {
  "kernelspec": {
   "display_name": "Python 3",
   "language": "python",
   "name": "python3"
  },
  "language_info": {
   "codemirror_mode": {
    "name": "ipython",
    "version": 3
   },
   "file_extension": ".py",
   "mimetype": "text/x-python",
   "name": "python",
   "nbconvert_exporter": "python",
   "pygments_lexer": "ipython3",
   "version": "3.5.3"
  }
 },
 "nbformat": 4,
 "nbformat_minor": 2
}
